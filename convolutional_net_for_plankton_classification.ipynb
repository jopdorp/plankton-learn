{
 "metadata": {
  "name": "",
  "signature": "sha256:79439d9410efba9bade23dc30c9d7857566e4282caa051b37d85b8fbee88198e"
 },
 "nbformat": 3,
 "nbformat_minor": 0,
 "worksheets": [
  {
   "cells": [
    {
     "cell_type": "code",
     "collapsed": false,
     "input": [
      "import theano\n",
      "from plankton_design_matrix import PlanktonDDM\n",
      "print theano.config.device\n",
      "import numpy as np\n"
     ],
     "language": "python",
     "metadata": {},
     "outputs": [
      {
       "output_type": "stream",
       "stream": "stdout",
       "text": [
        "gpu\n"
       ]
      },
      {
       "output_type": "stream",
       "stream": "stderr",
       "text": [
        "Using gpu device 0: GeForce GT 750M\n"
       ]
      }
     ],
     "prompt_number": 1
    },
    {
     "cell_type": "code",
     "collapsed": false,
     "input": [
      "train = open('conv_dropout.yaml', 'r').read()\n",
      "train_params = {'train_stop': 40000,\n",
      "                    'batch_size': 512}\n",
      "train = train % (train_params)\n",
      "print train\n",
      "from pylearn2.config import yaml_parse\n",
      "train = yaml_parse.load(train)\n",
      "train.main_loop()"
     ],
     "language": "python",
     "metadata": {},
     "outputs": [
      {
       "output_type": "stream",
       "stream": "stdout",
       "text": [
        "!obj:pylearn2.train.Train {\n",
        "    dataset: &train !obj:pylearn2.datasets.zca_dataset.ZCA_Dataset {             \n",
        "        preprocessed_dataset: !pkl: \"zca_images/train.pkl\",\n",
        "        preprocessor: !pkl: \"zca_images/preprocessor.pkl\",\n",
        "        start: 0,\n",
        "        stop: 20000\n",
        "    },\n",
        "    model: !obj:pylearn2.models.mlp.MLP {\n",
        "        batch_size: 100,\n",
        "        input_space: !obj:pylearn2.space.Conv2DSpace {\n",
        "            shape: &window_shape [32, 32],\n",
        "            num_channels: 1\n",
        "        },\n",
        "        layers: [ !obj:pylearn2.models.mlp.ConvRectifiedLinear {\n",
        "                     layer_name: 'h0',\n",
        "                     output_channels: 64,\n",
        "                     irange: .005,\n",
        "                     kernel_shape: [8, 8],\n",
        "                     pool_shape: [4, 4],\n",
        "                     pool_stride: [2, 2],\n",
        "                     max_kernel_norm: 1.9365\n",
        "                 }, !obj:pylearn2.models.mlp.ConvRectifiedLinear {\n",
        "                     layer_name: 'h1',\n",
        "                     output_channels: 64,\n",
        "                     irange: .005,\n",
        "                     kernel_shape: [8, 8],\n",
        "                     pool_shape: [4, 4],\n",
        "                     pool_stride: [2, 2],\n",
        "                     max_kernel_norm: 1.9365\n",
        "                 }, !obj:pylearn2.models.mlp.Softmax {\n",
        "                     max_col_norm: 1.9365,\n",
        "                     layer_name: 'y',\n",
        "                     n_classes: 121,\n",
        "                     irange: .005\n",
        "                 }\n",
        "                ],\n",
        "    },\n",
        "    algorithm: !obj:pylearn2.training_algorithms.sgd.SGD {\n",
        "        learning_rate: .1,\n",
        "        learning_rule: !obj:pylearn2.training_algorithms.learning_rule.Momentum {\n",
        "            init_momentum: .5,\n",
        "        },\n",
        "        train_iteration_mode: 'even_shuffled_sequential',\n",
        "        monitor_iteration_mode: 'even_sequential',\n",
        "        monitoring_dataset: {\n",
        "                'train' : *train,\n",
        "                'valid' : &valid !obj:pylearn2.datasets.zca_dataset.ZCA_Dataset {  \n",
        "                    preprocessed_dataset: !pkl: \"zca_images/train.pkl\",                      \n",
        "                    preprocessor: !pkl: \"zca_images/preprocessor.pkl\",  \n",
        "                    start: 20000,\n",
        "                    stop:  24269\n",
        "                },\n",
        "                'test'  : !obj:pylearn2.datasets.zca_dataset.ZCA_Dataset {  \n",
        "                    preprocessed_dataset: !pkl: \"zca_images/test.pkl\",                      \n",
        "                    preprocessor: !pkl: \"zca_images/preprocessor.pkl\",  \n",
        "                    start: 0,\n",
        "                    stop: 6067\n",
        "                }\n",
        "            },\n",
        "        cost: !obj:pylearn2.costs.mlp.dropout.Dropout {\n",
        "            input_include_probs: { 'h0' : .8 },\n",
        "            input_scales: { 'h0': 1. }\n",
        "        },\n",
        "        termination_criterion: !obj:pylearn2.termination_criteria.EpochCounter {\n",
        "                    max_epochs: 450\n",
        "        }\n",
        "    },\n",
        "    extensions: [\n",
        "        !obj:pylearn2.train_extensions.best_params.MonitorBasedSaveBest {\n",
        "            channel_name: 'valid_y_misclass',\n",
        "            save_path: \"results_convolutional_with_dropout_and_aug_best.pkl\"\n",
        "        },\n",
        "        !obj:pylearn2.training_algorithms.learning_rule.MomentumAdjustor {\n",
        "            start: 1,\n",
        "            saturate: 250,\n",
        "            final_momentum: .65\n",
        "        },\n",
        "        !obj:pylearn2.training_algorithms.sgd.LinearDecayOverEpoch {\n",
        "            start: 1,\n",
        "            saturate: 500,\n",
        "            decay_factor: .01\n",
        "        }\n",
        "    ],\n",
        "    save_path: \"./results_convolutional_with_dropout_and_aug.pkl\",\n",
        "    save_freq: 1\n",
        "}\n",
        "\n",
        "\n",
        "\n"
       ]
      }
     ],
     "prompt_number": 3
    },
    {
     "cell_type": "code",
     "collapsed": false,
     "input": [
      "from pylearn2.config import yaml_parse\n",
      "train = yaml_parse.load(train)\n",
      "train.main_loop()"
     ],
     "language": "python",
     "metadata": {},
     "outputs": [
      {
       "output_type": "stream",
       "stream": "stdout",
       "text": [
        "Input shape: (32, 32)\n"
       ]
      },
      {
       "output_type": "stream",
       "stream": "stdout",
       "text": [
        "Detector space: (25, 25)\n"
       ]
      },
      {
       "output_type": "stream",
       "stream": "stderr",
       "text": [
        "/home/vasco/venv/lib/python2.7/site-packages/theano/tensor/subtensor.py:190: FutureWarning: comparison to `None` will result in an elementwise object comparison in the future.\n",
        "  if stop in [None, maxsize]:\n",
        "/home/vasco/venv/lib/python2.7/site-packages/theano/tensor/opt.py:2165: FutureWarning: comparison to `None` will result in an elementwise object comparison in the future.\n",
        "  if (replace_x == replace_y and\n"
       ]
      },
      {
       "output_type": "stream",
       "stream": "stdout",
       "text": [
        "Output space: (12, 12)\n"
       ]
      },
      {
       "output_type": "stream",
       "stream": "stdout",
       "text": [
        "Input shape: (12, 12)\n"
       ]
      },
      {
       "output_type": "stream",
       "stream": "stdout",
       "text": [
        "Detector space: (5, 5)\n"
       ]
      },
      {
       "output_type": "stream",
       "stream": "stdout",
       "text": [
        "Output space: (2, 2)\n"
       ]
      },
      {
       "output_type": "stream",
       "stream": "stdout",
       "text": [
        "Parameter and initial learning rate summary:\n"
       ]
      },
      {
       "output_type": "stream",
       "stream": "stderr",
       "text": [
        "/home/vasco/venv/lib/python2.7/site-packages/theano/sandbox/rng_mrg.py:768: UserWarning: MRG_RandomStreams Can't determine #streams from size (Shape.0), guessing 60*256\n",
        "  nstreams = self.n_streams(size)\n"
       ]
      },
      {
       "output_type": "stream",
       "stream": "stdout",
       "text": [
        "\th0_W: 0.1\n"
       ]
      },
      {
       "output_type": "stream",
       "stream": "stdout",
       "text": [
        "\th0_b: 0.1\n"
       ]
      },
      {
       "output_type": "stream",
       "stream": "stdout",
       "text": [
        "\th1_W: 0.1\n"
       ]
      },
      {
       "output_type": "stream",
       "stream": "stdout",
       "text": [
        "\th1_b: 0.1\n"
       ]
      },
      {
       "output_type": "stream",
       "stream": "stdout",
       "text": [
        "\tsoftmax_b: 0.1\n"
       ]
      },
      {
       "output_type": "stream",
       "stream": "stdout",
       "text": [
        "\tsoftmax_W: 0.1\n"
       ]
      },
      {
       "output_type": "stream",
       "stream": "stdout",
       "text": [
        "Compiling sgd_update...\n"
       ]
      },
      {
       "output_type": "stream",
       "stream": "stdout",
       "text": [
        "Compiling sgd_update done. Time elapsed: 24.279702 seconds\n"
       ]
      },
      {
       "output_type": "stream",
       "stream": "stderr",
       "text": [
        "/home/vasco/venv/lib/python2.7/site-packages/theano/tensor/subtensor.py:110: FutureWarning: comparison to `None` will result in an elementwise object comparison in the future.\n",
        "  start in [None, 0] or\n",
        "/home/vasco/venv/lib/python2.7/site-packages/theano/tensor/subtensor.py:114: FutureWarning: comparison to `None` will result in an elementwise object comparison in the future.\n",
        "  stop in [None, length, maxsize] or\n"
       ]
      },
      {
       "output_type": "stream",
       "stream": "stdout",
       "text": [
        "compiling begin_record_entry...\n"
       ]
      },
      {
       "output_type": "stream",
       "stream": "stdout",
       "text": [
        "compiling begin_record_entry done. Time elapsed: 0.465136 seconds\n"
       ]
      },
      {
       "output_type": "stream",
       "stream": "stdout",
       "text": [
        "Monitored channels: \n"
       ]
      },
      {
       "output_type": "stream",
       "stream": "stdout",
       "text": [
        "\tlearning_rate\n"
       ]
      },
      {
       "output_type": "stream",
       "stream": "stdout",
       "text": [
        "\tmomentum\n"
       ]
      },
      {
       "output_type": "stream",
       "stream": "stdout",
       "text": [
        "\ttest_h0_kernel_norms_max\n"
       ]
      },
      {
       "output_type": "stream",
       "stream": "stdout",
       "text": [
        "\ttest_h0_kernel_norms_mean\n"
       ]
      },
      {
       "output_type": "stream",
       "stream": "stdout",
       "text": [
        "\ttest_h0_kernel_norms_min\n"
       ]
      },
      {
       "output_type": "stream",
       "stream": "stdout",
       "text": [
        "\ttest_h0_max_x_max_u\n"
       ]
      },
      {
       "output_type": "stream",
       "stream": "stdout",
       "text": [
        "\ttest_h0_max_x_mean_u\n"
       ]
      },
      {
       "output_type": "stream",
       "stream": "stdout",
       "text": [
        "\ttest_h0_max_x_min_u\n"
       ]
      },
      {
       "output_type": "stream",
       "stream": "stdout",
       "text": [
        "\ttest_h0_mean_x_max_u\n"
       ]
      },
      {
       "output_type": "stream",
       "stream": "stdout",
       "text": [
        "\ttest_h0_mean_x_mean_u\n"
       ]
      },
      {
       "output_type": "stream",
       "stream": "stdout",
       "text": [
        "\ttest_h0_mean_x_min_u\n"
       ]
      },
      {
       "output_type": "stream",
       "stream": "stdout",
       "text": [
        "\ttest_h0_min_x_max_u\n"
       ]
      },
      {
       "output_type": "stream",
       "stream": "stdout",
       "text": [
        "\ttest_h0_min_x_mean_u\n"
       ]
      },
      {
       "output_type": "stream",
       "stream": "stdout",
       "text": [
        "\ttest_h0_min_x_min_u\n"
       ]
      },
      {
       "output_type": "stream",
       "stream": "stdout",
       "text": [
        "\ttest_h0_range_x_max_u\n"
       ]
      },
      {
       "output_type": "stream",
       "stream": "stdout",
       "text": [
        "\ttest_h0_range_x_mean_u\n"
       ]
      },
      {
       "output_type": "stream",
       "stream": "stdout",
       "text": [
        "\ttest_h0_range_x_min_u\n"
       ]
      },
      {
       "output_type": "stream",
       "stream": "stdout",
       "text": [
        "\ttest_h1_kernel_norms_max\n"
       ]
      },
      {
       "output_type": "stream",
       "stream": "stdout",
       "text": [
        "\ttest_h1_kernel_norms_mean\n"
       ]
      },
      {
       "output_type": "stream",
       "stream": "stdout",
       "text": [
        "\ttest_h1_kernel_norms_min\n"
       ]
      },
      {
       "output_type": "stream",
       "stream": "stdout",
       "text": [
        "\ttest_h1_max_x_max_u\n"
       ]
      },
      {
       "output_type": "stream",
       "stream": "stdout",
       "text": [
        "\ttest_h1_max_x_mean_u\n"
       ]
      },
      {
       "output_type": "stream",
       "stream": "stdout",
       "text": [
        "\ttest_h1_max_x_min_u\n"
       ]
      },
      {
       "output_type": "stream",
       "stream": "stdout",
       "text": [
        "\ttest_h1_mean_x_max_u\n"
       ]
      },
      {
       "output_type": "stream",
       "stream": "stdout",
       "text": [
        "\ttest_h1_mean_x_mean_u\n"
       ]
      },
      {
       "output_type": "stream",
       "stream": "stdout",
       "text": [
        "\ttest_h1_mean_x_min_u\n"
       ]
      },
      {
       "output_type": "stream",
       "stream": "stdout",
       "text": [
        "\ttest_h1_min_x_max_u\n"
       ]
      },
      {
       "output_type": "stream",
       "stream": "stdout",
       "text": [
        "\ttest_h1_min_x_mean_u\n"
       ]
      },
      {
       "output_type": "stream",
       "stream": "stdout",
       "text": [
        "\ttest_h1_min_x_min_u\n"
       ]
      },
      {
       "output_type": "stream",
       "stream": "stdout",
       "text": [
        "\ttest_h1_range_x_max_u\n"
       ]
      },
      {
       "output_type": "stream",
       "stream": "stdout",
       "text": [
        "\ttest_h1_range_x_mean_u\n"
       ]
      },
      {
       "output_type": "stream",
       "stream": "stdout",
       "text": [
        "\ttest_h1_range_x_min_u\n"
       ]
      },
      {
       "output_type": "stream",
       "stream": "stdout",
       "text": [
        "\ttest_objective\n"
       ]
      },
      {
       "output_type": "stream",
       "stream": "stdout",
       "text": [
        "\ttest_y_col_norms_max\n"
       ]
      },
      {
       "output_type": "stream",
       "stream": "stdout",
       "text": [
        "\ttest_y_col_norms_mean\n"
       ]
      },
      {
       "output_type": "stream",
       "stream": "stdout",
       "text": [
        "\ttest_y_col_norms_min\n"
       ]
      },
      {
       "output_type": "stream",
       "stream": "stdout",
       "text": [
        "\ttest_y_max_max_class\n"
       ]
      },
      {
       "output_type": "stream",
       "stream": "stdout",
       "text": [
        "\ttest_y_mean_max_class\n"
       ]
      },
      {
       "output_type": "stream",
       "stream": "stdout",
       "text": [
        "\ttest_y_min_max_class\n"
       ]
      },
      {
       "output_type": "stream",
       "stream": "stdout",
       "text": [
        "\ttest_y_misclass\n"
       ]
      },
      {
       "output_type": "stream",
       "stream": "stdout",
       "text": [
        "\ttest_y_nll\n"
       ]
      },
      {
       "output_type": "stream",
       "stream": "stdout",
       "text": [
        "\ttest_y_row_norms_max\n"
       ]
      },
      {
       "output_type": "stream",
       "stream": "stdout",
       "text": [
        "\ttest_y_row_norms_mean\n"
       ]
      },
      {
       "output_type": "stream",
       "stream": "stdout",
       "text": [
        "\ttest_y_row_norms_min\n"
       ]
      },
      {
       "output_type": "stream",
       "stream": "stdout",
       "text": [
        "\ttotal_seconds_last_epoch\n"
       ]
      },
      {
       "output_type": "stream",
       "stream": "stdout",
       "text": [
        "\ttrain_h0_kernel_norms_max\n"
       ]
      },
      {
       "output_type": "stream",
       "stream": "stdout",
       "text": [
        "\ttrain_h0_kernel_norms_mean\n"
       ]
      },
      {
       "output_type": "stream",
       "stream": "stdout",
       "text": [
        "\ttrain_h0_kernel_norms_min\n"
       ]
      },
      {
       "output_type": "stream",
       "stream": "stdout",
       "text": [
        "\ttrain_h0_max_x_max_u\n"
       ]
      },
      {
       "output_type": "stream",
       "stream": "stdout",
       "text": [
        "\ttrain_h0_max_x_mean_u\n"
       ]
      },
      {
       "output_type": "stream",
       "stream": "stdout",
       "text": [
        "\ttrain_h0_max_x_min_u\n"
       ]
      },
      {
       "output_type": "stream",
       "stream": "stdout",
       "text": [
        "\ttrain_h0_mean_x_max_u\n"
       ]
      },
      {
       "output_type": "stream",
       "stream": "stdout",
       "text": [
        "\ttrain_h0_mean_x_mean_u\n"
       ]
      },
      {
       "output_type": "stream",
       "stream": "stdout",
       "text": [
        "\ttrain_h0_mean_x_min_u\n"
       ]
      },
      {
       "output_type": "stream",
       "stream": "stdout",
       "text": [
        "\ttrain_h0_min_x_max_u\n"
       ]
      },
      {
       "output_type": "stream",
       "stream": "stdout",
       "text": [
        "\ttrain_h0_min_x_mean_u\n"
       ]
      },
      {
       "output_type": "stream",
       "stream": "stdout",
       "text": [
        "\ttrain_h0_min_x_min_u\n"
       ]
      },
      {
       "output_type": "stream",
       "stream": "stdout",
       "text": [
        "\ttrain_h0_range_x_max_u\n"
       ]
      },
      {
       "output_type": "stream",
       "stream": "stdout",
       "text": [
        "\ttrain_h0_range_x_mean_u\n"
       ]
      },
      {
       "output_type": "stream",
       "stream": "stdout",
       "text": [
        "\ttrain_h0_range_x_min_u\n"
       ]
      },
      {
       "output_type": "stream",
       "stream": "stdout",
       "text": [
        "\ttrain_h1_kernel_norms_max\n"
       ]
      },
      {
       "output_type": "stream",
       "stream": "stdout",
       "text": [
        "\ttrain_h1_kernel_norms_mean\n"
       ]
      },
      {
       "output_type": "stream",
       "stream": "stdout",
       "text": [
        "\ttrain_h1_kernel_norms_min\n"
       ]
      },
      {
       "output_type": "stream",
       "stream": "stdout",
       "text": [
        "\ttrain_h1_max_x_max_u\n"
       ]
      },
      {
       "output_type": "stream",
       "stream": "stdout",
       "text": [
        "\ttrain_h1_max_x_mean_u\n"
       ]
      },
      {
       "output_type": "stream",
       "stream": "stdout",
       "text": [
        "\ttrain_h1_max_x_min_u\n"
       ]
      },
      {
       "output_type": "stream",
       "stream": "stdout",
       "text": [
        "\ttrain_h1_mean_x_max_u\n"
       ]
      },
      {
       "output_type": "stream",
       "stream": "stdout",
       "text": [
        "\ttrain_h1_mean_x_mean_u\n"
       ]
      },
      {
       "output_type": "stream",
       "stream": "stdout",
       "text": [
        "\ttrain_h1_mean_x_min_u\n"
       ]
      },
      {
       "output_type": "stream",
       "stream": "stdout",
       "text": [
        "\ttrain_h1_min_x_max_u\n"
       ]
      },
      {
       "output_type": "stream",
       "stream": "stdout",
       "text": [
        "\ttrain_h1_min_x_mean_u\n"
       ]
      },
      {
       "output_type": "stream",
       "stream": "stdout",
       "text": [
        "\ttrain_h1_min_x_min_u\n"
       ]
      },
      {
       "output_type": "stream",
       "stream": "stdout",
       "text": [
        "\ttrain_h1_range_x_max_u\n"
       ]
      },
      {
       "output_type": "stream",
       "stream": "stdout",
       "text": [
        "\ttrain_h1_range_x_mean_u\n"
       ]
      },
      {
       "output_type": "stream",
       "stream": "stdout",
       "text": [
        "\ttrain_h1_range_x_min_u\n"
       ]
      },
      {
       "output_type": "stream",
       "stream": "stdout",
       "text": [
        "\ttrain_objective\n"
       ]
      },
      {
       "output_type": "stream",
       "stream": "stdout",
       "text": [
        "\ttrain_y_col_norms_max\n"
       ]
      },
      {
       "output_type": "stream",
       "stream": "stdout",
       "text": [
        "\ttrain_y_col_norms_mean\n"
       ]
      },
      {
       "output_type": "stream",
       "stream": "stdout",
       "text": [
        "\ttrain_y_col_norms_min\n"
       ]
      },
      {
       "output_type": "stream",
       "stream": "stdout",
       "text": [
        "\ttrain_y_max_max_class\n"
       ]
      },
      {
       "output_type": "stream",
       "stream": "stdout",
       "text": [
        "\ttrain_y_mean_max_class\n"
       ]
      },
      {
       "output_type": "stream",
       "stream": "stdout",
       "text": [
        "\ttrain_y_min_max_class\n"
       ]
      },
      {
       "output_type": "stream",
       "stream": "stdout",
       "text": [
        "\ttrain_y_misclass\n"
       ]
      },
      {
       "output_type": "stream",
       "stream": "stdout",
       "text": [
        "\ttrain_y_nll\n"
       ]
      },
      {
       "output_type": "stream",
       "stream": "stdout",
       "text": [
        "\ttrain_y_row_norms_max\n"
       ]
      },
      {
       "output_type": "stream",
       "stream": "stdout",
       "text": [
        "\ttrain_y_row_norms_mean\n"
       ]
      },
      {
       "output_type": "stream",
       "stream": "stdout",
       "text": [
        "\ttrain_y_row_norms_min\n"
       ]
      },
      {
       "output_type": "stream",
       "stream": "stdout",
       "text": [
        "\ttraining_seconds_this_epoch\n"
       ]
      },
      {
       "output_type": "stream",
       "stream": "stdout",
       "text": [
        "\tvalid_h0_kernel_norms_max\n"
       ]
      },
      {
       "output_type": "stream",
       "stream": "stdout",
       "text": [
        "\tvalid_h0_kernel_norms_mean\n"
       ]
      },
      {
       "output_type": "stream",
       "stream": "stdout",
       "text": [
        "\tvalid_h0_kernel_norms_min\n"
       ]
      },
      {
       "output_type": "stream",
       "stream": "stdout",
       "text": [
        "\tvalid_h0_max_x_max_u\n"
       ]
      },
      {
       "output_type": "stream",
       "stream": "stdout",
       "text": [
        "\tvalid_h0_max_x_mean_u\n"
       ]
      },
      {
       "output_type": "stream",
       "stream": "stdout",
       "text": [
        "\tvalid_h0_max_x_min_u\n"
       ]
      },
      {
       "output_type": "stream",
       "stream": "stdout",
       "text": [
        "\tvalid_h0_mean_x_max_u\n"
       ]
      },
      {
       "output_type": "stream",
       "stream": "stdout",
       "text": [
        "\tvalid_h0_mean_x_mean_u\n"
       ]
      },
      {
       "output_type": "stream",
       "stream": "stdout",
       "text": [
        "\tvalid_h0_mean_x_min_u\n"
       ]
      },
      {
       "output_type": "stream",
       "stream": "stdout",
       "text": [
        "\tvalid_h0_min_x_max_u\n"
       ]
      },
      {
       "output_type": "stream",
       "stream": "stdout",
       "text": [
        "\tvalid_h0_min_x_mean_u\n"
       ]
      },
      {
       "output_type": "stream",
       "stream": "stdout",
       "text": [
        "\tvalid_h0_min_x_min_u\n"
       ]
      },
      {
       "output_type": "stream",
       "stream": "stdout",
       "text": [
        "\tvalid_h0_range_x_max_u\n"
       ]
      },
      {
       "output_type": "stream",
       "stream": "stdout",
       "text": [
        "\tvalid_h0_range_x_mean_u\n"
       ]
      },
      {
       "output_type": "stream",
       "stream": "stdout",
       "text": [
        "\tvalid_h0_range_x_min_u\n"
       ]
      },
      {
       "output_type": "stream",
       "stream": "stdout",
       "text": [
        "\tvalid_h1_kernel_norms_max\n"
       ]
      },
      {
       "output_type": "stream",
       "stream": "stdout",
       "text": [
        "\tvalid_h1_kernel_norms_mean\n"
       ]
      },
      {
       "output_type": "stream",
       "stream": "stdout",
       "text": [
        "\tvalid_h1_kernel_norms_min\n"
       ]
      },
      {
       "output_type": "stream",
       "stream": "stdout",
       "text": [
        "\tvalid_h1_max_x_max_u\n"
       ]
      },
      {
       "output_type": "stream",
       "stream": "stdout",
       "text": [
        "\tvalid_h1_max_x_mean_u\n"
       ]
      },
      {
       "output_type": "stream",
       "stream": "stdout",
       "text": [
        "\tvalid_h1_max_x_min_u\n"
       ]
      },
      {
       "output_type": "stream",
       "stream": "stdout",
       "text": [
        "\tvalid_h1_mean_x_max_u\n"
       ]
      },
      {
       "output_type": "stream",
       "stream": "stdout",
       "text": [
        "\tvalid_h1_mean_x_mean_u\n"
       ]
      },
      {
       "output_type": "stream",
       "stream": "stdout",
       "text": [
        "\tvalid_h1_mean_x_min_u\n"
       ]
      },
      {
       "output_type": "stream",
       "stream": "stdout",
       "text": [
        "\tvalid_h1_min_x_max_u\n"
       ]
      },
      {
       "output_type": "stream",
       "stream": "stdout",
       "text": [
        "\tvalid_h1_min_x_mean_u\n"
       ]
      },
      {
       "output_type": "stream",
       "stream": "stdout",
       "text": [
        "\tvalid_h1_min_x_min_u\n"
       ]
      },
      {
       "output_type": "stream",
       "stream": "stdout",
       "text": [
        "\tvalid_h1_range_x_max_u\n"
       ]
      },
      {
       "output_type": "stream",
       "stream": "stdout",
       "text": [
        "\tvalid_h1_range_x_mean_u\n"
       ]
      },
      {
       "output_type": "stream",
       "stream": "stdout",
       "text": [
        "\tvalid_h1_range_x_min_u\n"
       ]
      },
      {
       "output_type": "stream",
       "stream": "stdout",
       "text": [
        "\tvalid_objective\n"
       ]
      },
      {
       "output_type": "stream",
       "stream": "stdout",
       "text": [
        "\tvalid_y_col_norms_max\n"
       ]
      },
      {
       "output_type": "stream",
       "stream": "stdout",
       "text": [
        "\tvalid_y_col_norms_mean\n"
       ]
      },
      {
       "output_type": "stream",
       "stream": "stdout",
       "text": [
        "\tvalid_y_col_norms_min\n"
       ]
      },
      {
       "output_type": "stream",
       "stream": "stdout",
       "text": [
        "\tvalid_y_max_max_class\n"
       ]
      },
      {
       "output_type": "stream",
       "stream": "stdout",
       "text": [
        "\tvalid_y_mean_max_class\n"
       ]
      },
      {
       "output_type": "stream",
       "stream": "stdout",
       "text": [
        "\tvalid_y_min_max_class\n"
       ]
      },
      {
       "output_type": "stream",
       "stream": "stdout",
       "text": [
        "\tvalid_y_misclass\n"
       ]
      },
      {
       "output_type": "stream",
       "stream": "stdout",
       "text": [
        "\tvalid_y_nll\n"
       ]
      },
      {
       "output_type": "stream",
       "stream": "stdout",
       "text": [
        "\tvalid_y_row_norms_max\n"
       ]
      },
      {
       "output_type": "stream",
       "stream": "stdout",
       "text": [
        "\tvalid_y_row_norms_mean\n"
       ]
      },
      {
       "output_type": "stream",
       "stream": "stdout",
       "text": [
        "\tvalid_y_row_norms_min\n"
       ]
      },
      {
       "output_type": "stream",
       "stream": "stdout",
       "text": [
        "Compiling accum...\n"
       ]
      }
     ]
    },
    {
     "cell_type": "code",
     "collapsed": false,
     "input": [
      "!print_monitor.py results_convolutional_with_dropout_and_aug_best.pkl | grep test_y_misclass"
     ],
     "language": "python",
     "metadata": {},
     "outputs": [
      {
       "output_type": "stream",
       "stream": "stdout",
       "text": [
        "/bin/sh: print_monitor.py: command not found\r\n"
       ]
      }
     ],
     "prompt_number": 1
    },
    {
     "cell_type": "code",
     "collapsed": false,
     "input": [
      "!show_weights.py convolutional_network_best.pkl"
     ],
     "language": "python",
     "metadata": {},
     "outputs": []
    },
    {
     "cell_type": "code",
     "collapsed": false,
     "input": [
      "def multiclass_log_loss(y_true, y_pred, eps=1e-15):\n",
      "    \"\"\"Multi class version of Logarithmic Loss metric.\n",
      "    https://www.kaggle.com/wiki/MultiClassLogLoss\n",
      "\n",
      "    Parameters\n",
      "    ----------\n",
      "    y_true : array, shape = [n_samples]\n",
      "            true class, intergers in [0, n_classes - 1)\n",
      "    y_pred : array, shape = [n_samples, n_classes]\n",
      "\n",
      "    Returns\n",
      "    -------\n",
      "    loss : float\n",
      "    \"\"\"\n",
      "    predictions = np.clip(y_pred, eps, 1 - eps)\n",
      "\n",
      "    # normalize row sums to 1\n",
      "    predictions /= predictions.sum(axis=1)[:, np.newaxis]\n",
      "    print predictions\n",
      "    actual = np.zeros(y_pred.shape)\n",
      "    n_samples = actual.shape[0]\n",
      "    actual[np.arange(n_samples), y_true.T.astype(int)] = 1\n",
      "    vectsum = np.sum(actual * np.log(predictions))\n",
      "    loss = -1.0 / n_samples * vectsum\n",
      "    return loss"
     ],
     "language": "python",
     "metadata": {},
     "outputs": [],
     "prompt_number": 87
    },
    {
     "cell_type": "code",
     "collapsed": false,
     "input": [
      "def softmax(X):\n",
      "    \"\"\"\n",
      "    numpy.array -> numpy.array\n",
      "    Compute softmax function: exp(X) / sum(exp(X, 1))\n",
      "    where each row of X is a vector output (e.g., different columns representing \n",
      "    outputs for different classes)\n",
      "    The output of softmax is a matrix, with the sum of each row to be nearly 1.0\n",
      "    as it is the probabilities that are calculated.\n",
      "    \"\"\"\n",
      "    mx = np.max(X)\n",
      "    ex = np.exp(X - mx) # prefer zeros over stack overflow - but NOT always useful\n",
      "    return ex / np.sum(ex, 1).reshape(-1, 1)\n"
     ],
     "language": "python",
     "metadata": {},
     "outputs": [],
     "prompt_number": 3
    },
    {
     "cell_type": "code",
     "collapsed": false,
     "input": [
      "from pylearn2.utils import serial\n",
      "from pylearn2.config import yaml_parse\n",
      "\n",
      "model_path = 'results_convolutional_with_dropout_and_aug_best.pkl'\n",
      "model = serial.load(model_path)\n",
      "dataset = yaml_parse.load(model.dataset_yaml_src)\n",
      "dataset = dataset.get_test_set()\n",
      "\n",
      "# use smallish batches to avoid running out of memory\n",
      "batch_size = 512\n",
      "model.set_batch_size(batch_size)\n",
      "# dataset must be multiple of batch size of some batches will have\n",
      "# different sizes. theano convolution requires a hard-coded batch size\n",
      "m = dataset.X.shape[0]\n",
      "extra = batch_size - m % batch_size\n",
      "assert (m + extra) % batch_size == 0\n",
      "import numpy as np\n",
      "if extra > 0:\n",
      "    dataset.X = np.concatenate((dataset.X, np.zeros((extra, dataset.X.shape[1]),\n",
      "    dtype=dataset.X.dtype)), axis=0)\n",
      "assert dataset.X.shape[0] % batch_size == 0\n",
      "\n",
      "\n",
      "X = model.get_input_space().make_batch_theano()\n",
      "Y = model.fprop(X)\n",
      "\n",
      "from theano import function\n",
      "\n",
      "f = function([X], Y)\n",
      "\n",
      "\n",
      "y = []\n",
      "\n",
      "for i in xrange(dataset.X.shape[0] / batch_size):\n",
      "    x_arg = dataset.X[i*batch_size:(i+1)*batch_size,:]\n",
      "    if X.ndim > 2:\n",
      "        x_arg = dataset.get_topological_view(x_arg)\n",
      "    y.append(f(x_arg.astype(X.dtype)))\n",
      "\n",
      "y = np.concatenate(y)\n",
      "assert y.shape[0] == dataset.X.shape[0]\n",
      "# discard any zero-padding that was used to give the batches uniform size\n",
      "y = y[:m]\n",
      "\n",
      "print multiclass_log_loss(dataset.y,y)\n"
     ],
     "language": "python",
     "metadata": {},
     "outputs": [
      {
       "output_type": "stream",
       "stream": "stdout",
       "text": [
        "[[  6.52949383e-09   1.32862211e-11   3.47479268e-09 ...,   9.06934507e-14\n",
        "    7.21523492e-12   7.33235493e-06]\n",
        " [  3.60462629e-08   3.40027242e-11   1.67776790e-07 ...,   3.56266519e-08\n",
        "    1.00659645e-06   2.57988460e-04]\n",
        " [  1.00000000e-15   3.99251893e-14   1.00000000e-15 ...,   3.41770345e-08\n",
        "    8.72768669e-06   5.72942599e-06]\n",
        " ..., \n",
        " [  3.10342685e-08   1.37291742e-08   1.09890805e-10 ...,   2.50559037e-06\n",
        "    1.46086876e-07   2.69133079e-06]\n",
        " [  9.94019091e-01   1.87940059e-05   2.29906454e-05 ...,   3.16211555e-07\n",
        "    3.49837208e-08   3.77017068e-06]\n",
        " [  1.67818051e-11   1.82784968e-11   6.13556989e-14 ...,   6.05759576e-09\n",
        "    7.09486834e-04   2.29849931e-04]]\n",
        "2037.80087402"
       ]
      },
      {
       "output_type": "stream",
       "stream": "stdout",
       "text": [
        "\n"
       ]
      }
     ],
     "prompt_number": 15
    },
    {
     "cell_type": "code",
     "collapsed": false,
     "input": [
      "print multiclass_log_loss(dataset.y,y)"
     ],
     "language": "python",
     "metadata": {},
     "outputs": [
      {
       "output_type": "stream",
       "stream": "stdout",
       "text": [
        "[[  6.52949383e-09   1.32862211e-11   3.47479268e-09 ...,   9.06934507e-14\n",
        "    7.21523492e-12   7.33235493e-06]\n",
        " [  3.60462629e-08   3.40027242e-11   1.67776790e-07 ...,   3.56266519e-08\n",
        "    1.00659645e-06   2.57988460e-04]\n",
        " [  1.00000000e-15   3.99251893e-14   1.00000000e-15 ...,   3.41770345e-08\n",
        "    8.72768669e-06   5.72942599e-06]\n",
        " ..., \n",
        " [  3.10342685e-08   1.37291742e-08   1.09890805e-10 ...,   2.50559037e-06\n",
        "    1.46086876e-07   2.69133079e-06]\n",
        " [  9.94019091e-01   1.87940059e-05   2.29906454e-05 ...,   3.16211555e-07\n",
        "    3.49837208e-08   3.77017068e-06]\n",
        " [  1.67818051e-11   1.82784968e-11   6.13556989e-14 ...,   6.05759576e-09\n",
        "    7.09486834e-04   2.29849931e-04]]\n",
        "1.3834244137\n"
       ]
      }
     ],
     "prompt_number": 88
    },
    {
     "cell_type": "code",
     "collapsed": false,
     "input": [
      "print y.shape\n",
      "print softmax(y)"
     ],
     "language": "python",
     "metadata": {},
     "outputs": [
      {
       "output_type": "stream",
       "stream": "stdout",
       "text": [
        "(6067, 121)\n",
        "[[ 0.0081491   0.0081491   0.0081491  ...,  0.0081491   0.0081491\n",
        "   0.00814916]\n",
        " [ 0.00815047  0.00815047  0.00815047 ...,  0.00815047  0.00815048\n",
        "   0.00815257]\n",
        " [ 0.00815702  0.00815702  0.00815702 ...,  0.00815702  0.00815709\n",
        "   0.00815707]\n",
        " ..., \n",
        " [ 0.00817257  0.00817257  0.00817257 ...,  0.00817259  0.00817257\n",
        "   0.00817259]\n",
        " [ 0.02202033  0.00814958  0.00814961 ...,  0.00814943  0.00814942\n",
        "   0.00814946]\n",
        " [ 0.00816552  0.00816552  0.00816552 ...,  0.00816552  0.00817131\n",
        "   0.0081674 ]]\n"
       ]
      }
     ],
     "prompt_number": 20
    },
    {
     "cell_type": "code",
     "collapsed": false,
     "input": [
      "dataset.y.shape"
     ],
     "language": "python",
     "metadata": {},
     "outputs": [
      {
       "metadata": {},
       "output_type": "pyout",
       "prompt_number": 13,
       "text": [
        "(6067, 1)"
       ]
      }
     ],
     "prompt_number": 13
    },
    {
     "cell_type": "code",
     "collapsed": false,
     "input": [
      "print y"
     ],
     "language": "python",
     "metadata": {},
     "outputs": [
      {
       "output_type": "stream",
       "stream": "stdout",
       "text": [
        "[[  6.55001462e-01   4.53871507e-05   6.47685301e-05 ...,   1.92244624e-04\n",
        "    4.67209684e-05   7.84594449e-04]\n",
        " [  1.27484547e-02   2.42108115e-07   1.01846254e-07 ...,   1.31436915e-03\n",
        "    9.36931523e-04   4.22033743e-04]\n",
        " [  2.36120920e-14   9.06632515e-16   2.28039414e-24 ...,   6.50645792e-01\n",
        "    4.04986458e-05   3.42227690e-06]\n",
        " ..., \n",
        " [  2.82023458e-17   6.48578101e-21   1.13266457e-33 ...,   2.07474758e-03\n",
        "    5.72215506e-13   2.39259654e-11]\n",
        " [  5.42673230e-01   2.87379635e-07   1.91374602e-05 ...,   1.00837766e-04\n",
        "    2.18975285e-04   7.73156644e-05]\n",
        " [  5.57392985e-02   4.91453920e-06   2.27266469e-06 ...,   7.35427544e-04\n",
        "    1.03273494e-02   5.97047387e-03]]\n"
       ]
      }
     ],
     "prompt_number": 32
    },
    {
     "cell_type": "code",
     "collapsed": false,
     "input": [
      "print y.argmax(axis=1)\n",
      "print dataset.y"
     ],
     "language": "python",
     "metadata": {},
     "outputs": [
      {
       "output_type": "stream",
       "stream": "stdout",
       "text": [
        "[  9  68  11 ..., 110   0  36]\n",
        "[[  9]\n",
        " [ 68]\n",
        " [ 11]\n",
        " ..., \n",
        " [108]\n",
        " [  0]\n",
        " [ 36]]\n"
       ]
      }
     ],
     "prompt_number": 17
    },
    {
     "cell_type": "code",
     "collapsed": false,
     "input": [
      "print y\n",
      "print dataset.y"
     ],
     "language": "python",
     "metadata": {},
     "outputs": [
      {
       "output_type": "stream",
       "stream": "stdout",
       "text": [
        "[[  6.52949383e-09   1.32862211e-11   3.47479268e-09 ...,   9.06934507e-14\n",
        "    7.21523492e-12   7.33235493e-06]\n",
        " [  3.60462593e-08   3.40027208e-11   1.67776776e-07 ...,   3.56266483e-08\n",
        "    1.00659634e-06   2.57988431e-04]\n",
        " [  5.53346666e-16   3.99251893e-14   9.55781736e-20 ...,   3.41770345e-08\n",
        "    8.72768669e-06   5.72942599e-06]\n",
        " ..., \n",
        " [  3.10342649e-08   1.37291734e-08   1.09890798e-10 ...,   2.50559015e-06\n",
        "    1.46086862e-07   2.69133056e-06]\n",
        " [  9.94018912e-01   1.87940022e-05   2.29906418e-05 ...,   3.16211498e-07\n",
        "    3.49837137e-08   3.77017000e-06]\n",
        " [  1.67818086e-11   1.82785020e-11   6.13557124e-14 ...,   6.05759709e-09\n",
        "    7.09487009e-04   2.29849989e-04]]\n",
        "[[  9]\n",
        " [ 68]\n",
        " [ 11]\n",
        " ..., \n",
        " [108]\n",
        " [  0]\n",
        " [ 36]]\n"
       ]
      }
     ],
     "prompt_number": 11
    },
    {
     "cell_type": "code",
     "collapsed": false,
     "input": [
      "y\n"
     ],
     "language": "python",
     "metadata": {},
     "outputs": [
      {
       "metadata": {},
       "output_type": "pyout",
       "prompt_number": 21,
       "text": [
        "array([[  6.52949383e-09,   1.32862211e-11,   3.47479268e-09, ...,\n",
        "          9.06934507e-14,   7.21523492e-12,   7.33235493e-06],\n",
        "       [  3.60462593e-08,   3.40027208e-11,   1.67776776e-07, ...,\n",
        "          3.56266483e-08,   1.00659634e-06,   2.57988431e-04],\n",
        "       [  5.53346666e-16,   3.99251893e-14,   9.55781736e-20, ...,\n",
        "          3.41770345e-08,   8.72768669e-06,   5.72942599e-06],\n",
        "       ..., \n",
        "       [  3.10342649e-08,   1.37291734e-08,   1.09890798e-10, ...,\n",
        "          2.50559015e-06,   1.46086862e-07,   2.69133056e-06],\n",
        "       [  9.94018912e-01,   1.87940022e-05,   2.29906418e-05, ...,\n",
        "          3.16211498e-07,   3.49837137e-08,   3.77017000e-06],\n",
        "       [  1.67818086e-11,   1.82785020e-11,   6.13557124e-14, ...,\n",
        "          6.05759709e-09,   7.09487009e-04,   2.29849989e-04]], dtype=float32)"
       ]
      }
     ],
     "prompt_number": 21
    },
    {
     "cell_type": "code",
     "collapsed": false,
     "input": [
      "    \n",
      "    # normalize row sums to 1\n",
      "#     print predictions\n",
      "actual = np.zeros(y.shape)\n",
      "n_samples = actual.shape[0]\n",
      "actual[np.arange(n_samples), dataset.y.T.astype(int)] = 1\n",
      "print dataset.y[0]\n",
      "print actual[0,:]\n",
      "print y[0,:]\n",
      "\n",
      "\n",
      "#     vectsum = np.sum(actual * np.log(predictions))\n",
      "#     loss = -1.0 / n_samples * vectsum\n"
     ],
     "language": "python",
     "metadata": {},
     "outputs": [
      {
       "output_type": "stream",
       "stream": "stdout",
       "text": [
        "[9]\n",
        "[ 0.  0.  0.  0.  0.  0.  0.  0.  0.  1.  0.  0.  0.  0.  0.  0.  0.  0.\n",
        "  0.  0.  0.  0.  0.  0.  0.  0.  0.  0.  0.  0.  0.  0.  0.  0.  0.  0.\n",
        "  0.  0.  0.  0.  0.  0.  0.  0.  0.  0.  0.  0.  0.  0.  0.  0.  0.  0.\n",
        "  0.  0.  0.  0.  0.  0.  0.  0.  0.  0.  0.  0.  0.  0.  0.  0.  0.  0.\n",
        "  0.  0.  0.  0.  0.  0.  0.  0.  0.  0.  0.  0.  0.  0.  0.  0.  0.  0.\n",
        "  0.  0.  0.  0.  0.  0.  0.  0.  0.  0.  0.  0.  0.  0.  0.  0.  0.  0.\n",
        "  0.  0.  0.  0.  0.  0.  0.  0.  0.  0.  0.  0.  0.]\n",
        "[  6.52949383e-09   1.32862211e-11   3.47479268e-09   2.64369472e-13\n",
        "   5.45417220e-16   4.64716834e-14   3.68394421e-12   2.71988965e-09\n",
        "   9.94841230e-07   9.96908009e-01   2.13133234e-07   1.57770870e-07\n",
        "   2.36382704e-07   3.31053552e-15   8.35745492e-16   9.52863676e-19\n",
        "   5.41828943e-11   5.57422410e-20   2.75937720e-13   1.97726707e-19\n",
        "   5.05853353e-20   3.47550472e-15   6.75157955e-13   8.16387149e-12\n",
        "   1.35917938e-16   6.15179348e-13   1.25421756e-11   5.35213124e-11\n",
        "   4.86325553e-05   2.04284574e-13   8.19391403e-07   8.24118558e-07\n",
        "   1.59159595e-16   2.33746644e-09   7.84724438e-11   5.64359937e-09\n",
        "   2.37011939e-08   3.76029625e-08   5.57678881e-08   1.39160994e-13\n",
        "   8.47039860e-09   5.01553009e-13   8.13123223e-13   1.09599574e-09\n",
        "   5.27356262e-13   2.44987547e-07   4.12399906e-11   3.40576939e-14\n",
        "   2.34551347e-17   3.25912519e-10   6.92183767e-12   1.55216992e-06\n",
        "   1.86669208e-10   3.95025276e-16   9.11400675e-16   4.21094942e-14\n",
        "   3.19177389e-07   2.10626476e-05   4.43107972e-04   4.20235331e-08\n",
        "   9.41154212e-05   1.77746815e-12   7.90151025e-05   8.72195915e-09\n",
        "   4.40345715e-08   2.57647730e-06   3.73768785e-07   3.12052430e-06\n",
        "   5.45264775e-05   2.11243800e-09   3.32663745e-08   2.24111614e-06\n",
        "   3.58059362e-04   2.71997010e-07   9.35465650e-05   1.88902064e-04\n",
        "   1.57539834e-12   1.38040458e-12   1.00325633e-11   1.81562843e-09\n",
        "   8.94359488e-04   5.24479731e-08   9.42752099e-09   5.72804096e-11\n",
        "   1.47979250e-11   4.13364383e-08   1.71653192e-13   7.61838407e-07\n",
        "   2.29517624e-07   6.68749385e-14   2.61531211e-04   6.98221129e-06\n",
        "   2.96073270e-11   7.12869230e-14   3.64791242e-09   1.20220517e-18\n",
        "   1.05780167e-08   2.55918967e-05   9.36524671e-08   1.87084470e-06\n",
        "   2.41521138e-06   8.62969429e-08   1.66480419e-07   1.44004680e-05\n",
        "   4.07628599e-04   8.73074768e-09   7.04346165e-11   1.06638982e-10\n",
        "   1.87576412e-14   6.67772851e-11   8.65053196e-10   1.95305317e-12\n",
        "   1.79237547e-09   5.37617311e-08   4.60545880e-06   6.65150856e-06\n",
        "   2.18498963e-06   5.97749749e-05   9.06934507e-14   7.21523492e-12\n",
        "   7.33235493e-06]\n"
       ]
      }
     ],
     "prompt_number": 86
    },
    {
     "cell_type": "code",
     "collapsed": false,
     "input": [],
     "language": "python",
     "metadata": {},
     "outputs": [],
     "prompt_number": 83
    },
    {
     "cell_type": "code",
     "collapsed": false,
     "input": [],
     "language": "python",
     "metadata": {},
     "outputs": []
    }
   ],
   "metadata": {}
  }
 ]
}